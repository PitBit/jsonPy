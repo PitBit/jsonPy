{
 "cells": [
  {
   "cell_type": "code",
   "execution_count": 1,
   "metadata": {},
   "outputs": [
    {
     "name": "stdout",
     "output_type": "stream",
     "text": [
      "['C:\\\\Users\\\\NeufeldPeter\\\\AppData\\\\Roaming\\\\Python\\\\Python311\\\\site-packages\\\\ipykernel_launcher.py', '--f=c:\\\\Users\\\\NeufeldPeter\\\\AppData\\\\Roaming\\\\jupyter\\\\runtime\\\\kernel-v2-27096qMZJpCfpJ5Eg.json']\n",
      "\n",
      "-----------------------------------------------------------------------------------------------\n"
     ]
    }
   ],
   "source": [
    "#!python\n",
    "# script to search same or not same string in json files\n",
    "\n",
    "import sys\n",
    "import json\n",
    "\n",
    "# get commad line arguments\n",
    "print(sys.argv)\n",
    "\n",
    "# define dict for results\n",
    "result={\"Modul\":\"\"}, {\"key\":\"test\"}\n",
    "\n",
    "# Open first JSON file and returns JSON object as a dictionary\n",
    "# it want to be master file\n",
    "fileOne = open('in2.json')\n",
    "fileOneData = json.load(fileOne)\n",
    "fileOne.close()\n",
    "\n",
    "# Open second JSON file and returns JSON object as a dictionary\n",
    "fileTwo = open('in1.json')\n",
    "fileTwoData = json.load(fileTwo)\n",
    "fileTwo.close()\n",
    "\n",
    "print('\\n-----------------------------------------------------------------------------------------------')"
   ]
  },
  {
   "cell_type": "code",
   "execution_count": 2,
   "metadata": {},
   "outputs": [
    {
     "name": "stdout",
     "output_type": "stream",
     "text": [
      "-- RequirePort -compare---------------------------------------------------------------------------------\n",
      "-> case sensitiv\n",
      "      AcH_Smo  !=  AcH_SMo\n",
      "-> double declaration, please check this:  Amf_min_SU_H2Dil_T\n",
      "-> new interface: \n",
      "     OldInterface1\n",
      "-> new interface: \n",
      "     OldInterface2\n",
      "-> deleted:\n",
      "     aFYpct_PGV_FcN_DRVopn_en\n",
      "     MyNiceTest\n",
      "-- RequirePort -END-------------------------------------------------------------------------------------\n",
      "\n",
      "-- ProvidePort -compare---------------------------------------------------------------------------------\n",
      "-> new interface: \n",
      "     aFYopn_DRV_i\n",
      "-> deleted:\n",
      "     aFYopn_DRV\n",
      "-- ProvidePort -END-------------------------------------------------------------------------------------\n",
      "\n",
      "-- CalibrationParameter -compare---------------------------------------------------------------------------------\n",
      "-> double declaration, please check this:  fcu_Wm_AKO_full_P\n",
      "-> double declaration, please check this:  fcu_Wm_AKO_min_P\n",
      "-> double declaration, please check this:  fcu_Wm_AKO_max_P\n",
      "-> double declaration, please check this:  fcu_Wm_AKO_full_P\n",
      "-> double declaration, please check this:  fcu_Wm_AKO_max_P\n",
      "-> double declaration, please check this:  fcu_Wm_AKO_min_P\n",
      "-> deleted:\n",
      "-- CalibrationParameter -END-------------------------------------------------------------------------------------\n",
      "\n",
      "-- ParameterRequirePort -compare---------------------------------------------------------------------------------\n",
      "-> deleted:\n",
      "-- ParameterRequirePort -END-------------------------------------------------------------------------------------\n",
      "\n"
     ]
    }
   ],
   "source": [
    "def compareKeys(key):\n",
    "    KeyCnt1 = 0\n",
    "    KeyCnt2 = 0\n",
    "    findingsCnt = 0\n",
    "    print('--',key,'-compare---------------------------------------------------------------------------------')\n",
    "    while KeyCnt1 < len(DataFirst):\n",
    "        lastFind =''\n",
    "        # check for key in dict\n",
    "        if key in DataFirst[KeyCnt1]:\n",
    "            while KeyCnt2 < len(DataSecond):\n",
    "                # check for key in dict\n",
    "                if key in DataSecond[KeyCnt2]:\n",
    "                    # compare the names\n",
    "                    if DataFirst[KeyCnt1][key] == DataSecond[KeyCnt2][key]:\n",
    "                        findingsCnt+=1\n",
    "                        lastFind = DataFirst[KeyCnt1][key]\n",
    "                    elif DataFirst[KeyCnt1][key].lower() == DataSecond[KeyCnt2][key].lower():\n",
    "                        print('-> case sensitiv\\n     ',DataFirst[KeyCnt1][key],' != ', DataSecond[KeyCnt2][key])\n",
    "                        findingsCnt+=1\n",
    "                KeyCnt2+=1\n",
    "            KeyCnt2=0\n",
    "            if findingsCnt == 0:\n",
    "                print('-> new interface: \\n    ', DataFirst[KeyCnt1][key])\n",
    "            elif findingsCnt > 1:\n",
    "                print('-> double declaration, please check this: ', lastFind)\n",
    "            findingsCnt=0\n",
    "        else:\n",
    "            print('-- WARNING: key RequirePort not found, wrong scruct?')\n",
    "        KeyCnt1 += 1\n",
    "    KeyCnt1 = 0\n",
    "    KeyCnt2 = 0\n",
    "    findingsCnt = 0\n",
    "    print('-> deleted:')\n",
    "    while KeyCnt2 < len(DataSecond):\n",
    "        if key in DataSecond[KeyCnt2]:\n",
    "            while KeyCnt1 < len(DataFirst):\n",
    "                if DataFirst[KeyCnt1][key] != DataSecond[KeyCnt2][key]:\n",
    "                    if DataFirst[KeyCnt1][key].lower() != DataSecond[KeyCnt2][key].lower():\n",
    "                        findingsCnt+=1\n",
    "                KeyCnt1+=1\n",
    "            KeyCnt1 = 0\n",
    "            if findingsCnt == len(DataFirst):\n",
    "                print('    ', DataSecond[KeyCnt2][key])\n",
    "            findingsCnt = 0\n",
    "        KeyCnt2+=1\n",
    "    print('--',key,'-END-------------------------------------------------------------------------------------\\n')\n",
    "\n",
    "# define the data keys\n",
    "Keyfirst = 'RequirePorts'\n",
    "KeySecond = 'RequirePort'\n",
    "\n",
    "DataFirst = fileOneData[Keyfirst]\n",
    "DataSecond = fileTwoData[Keyfirst]\n",
    "\n",
    "if Keyfirst in fileOneData:\n",
    "    compareKeys(KeySecond)\n",
    "else:\n",
    "    print('-- no ', Keyfirst, ' find')\n",
    "\n",
    "# define the data keys\n",
    "Keyfirst = 'ProvidePorts'\n",
    "KeySecond = 'ProvidePort'\n",
    "\n",
    "DataFirst = fileOneData[Keyfirst]\n",
    "DataSecond = fileTwoData[Keyfirst]\n",
    "\n",
    "if Keyfirst in fileOneData:\n",
    "    compareKeys(KeySecond)\n",
    "else:\n",
    "    print('-- no ', Keyfirst, ' find')\n",
    "\n",
    "# define the data keys\n",
    "Keyfirst = 'CalibrationParameters'\n",
    "KeySecond = 'CalibrationParameter'\n",
    "\n",
    "DataFirst = fileOneData[Keyfirst]\n",
    "DataSecond = fileTwoData[Keyfirst]\n",
    "\n",
    "if Keyfirst in fileOneData:\n",
    "    compareKeys(KeySecond)\n",
    "else:\n",
    "    print('-- no ', Keyfirst, ' find')\n",
    "    \n",
    "# define the data keys\n",
    "Keyfirst = 'ParameterRequirePorts'\n",
    "KeySecond = 'ParameterRequirePort'\n",
    "\n",
    "DataFirst = fileOneData[Keyfirst]\n",
    "DataSecond = fileTwoData[Keyfirst]\n",
    "\n",
    "if Keyfirst in fileOneData:\n",
    "    compareKeys(KeySecond)\n",
    "else:\n",
    "    print('-- no ', Keyfirst, ' find')\n",
    "    "
   ]
  },
  {
   "cell_type": "code",
   "execution_count": 2,
   "metadata": {},
   "outputs": [
    {
     "data": {
      "text/plain": [
       "[]"
      ]
     },
     "execution_count": 2,
     "metadata": {},
     "output_type": "execute_result"
    }
   ],
   "source": [
    "import os, fnmatch\n",
    "def find(pattern, path):\n",
    "    result = []\n",
    "    for root, dirs, files in os.walk(path):\n",
    "        for name in files:\n",
    "            if fnmatch.fnmatch(name, pattern):\n",
    "                result.append(os.path.join(root, name))\n",
    "    return result\n",
    "\n",
    "find('*.json', 'C:\\git\\FCS_Model_develop\\50_ECU\\FCU_ASW')"
   ]
  },
  {
   "cell_type": "code",
   "execution_count": 4,
   "metadata": {},
   "outputs": [
    {
     "data": {
      "text/plain": [
       "[]"
      ]
     },
     "execution_count": 4,
     "metadata": {},
     "output_type": "execute_result"
    }
   ],
   "source": [
    "import pathlib\n",
    "sorted(pathlib.Path('C:\\git\\FCS_Model_develop\\50_ECU\\FCU_ASW').glob('**/*.json'))"
   ]
  },
  {
   "cell_type": "code",
   "execution_count": 6,
   "metadata": {},
   "outputs": [
    {
     "data": {
      "text/plain": [
       "[]"
      ]
     },
     "execution_count": 6,
     "metadata": {},
     "output_type": "execute_result"
    }
   ],
   "source": [
    "import glob\n",
    "glob.glob('C:\\git\\FCS_Model_develop\\50_ECU\\FCU_ASW\\**/*.json', recursive=True)"
   ]
  }
 ],
 "metadata": {
  "kernelspec": {
   "display_name": "Python 3",
   "language": "python",
   "name": "python3"
  },
  "language_info": {
   "codemirror_mode": {
    "name": "ipython",
    "version": 3
   },
   "file_extension": ".py",
   "mimetype": "text/x-python",
   "name": "python",
   "nbconvert_exporter": "python",
   "pygments_lexer": "ipython3",
   "version": "3.11.5"
  }
 },
 "nbformat": 4,
 "nbformat_minor": 2
}
