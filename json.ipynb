{
 "cells": [
  {
   "cell_type": "code",
   "execution_count": 18,
   "metadata": {},
   "outputs": [
    {
     "name": "stdout",
     "output_type": "stream",
     "text": [
      "len of fileOneData 3 but len of fileOneData 2\n",
      "--R-Ports--file-1-----------------------\n",
      "AcH_SMo aFYpct_PGV_FcN_DRVopn_en Amf_min_SU_H2Dil_T --R-Ports--file-2-----------------------\n",
      "AcH_SMo\n",
      "aFYpct_PGV_FcN_DRVopn_en\n",
      "----------------------------\n"
     ]
    }
   ],
   "source": [
    "# script to search same or not same string in json files\n",
    "\n",
    "import json\n",
    "\n",
    "# Open first JSON file and returns JSON object as a dictionary\n",
    "fileOne = open('in1.json')\n",
    "fileOneData = json.load(fileOne)\n",
    "fileOne.close()\n",
    "\n",
    "# Open second JSON file and returns JSON object as a dictionary\n",
    "fileTwo = open('in2.json')\n",
    "fileTwoData = json.load(fileTwo)\n",
    "fileTwo.close()\n",
    "\n",
    "# check json classes in data\n",
    "Keyfirst = 'RequirePorts'\n",
    "KeySecond = 'RequirePort'\n",
    "\n",
    "fileOneDataLen = len(fileOneData[Keyfirst])\n",
    "fileTwoDataLen = len(fileTwoData[Keyfirst])\n",
    "\n",
    "print('len of fileOneData', fileOneDataLen, end=' '),\n",
    "print('but len of fileOneData', fileTwoDataLen)\n",
    "\n",
    "if fileOneDataLen > fileTwoDataLen:\n",
    "    DataFirst = fileOneData[Keyfirst]\n",
    "else:\n",
    "    DataSecond = fileTwoData[Keyfirst]\n",
    "    \n",
    "if 'RequirePorts' in fileOneData:\n",
    "    counter = 0\n",
    "    findingsCnt = 0\n",
    "    print('--R-Ports--file-1-----------------------')\n",
    "    for i in DataFirst:\n",
    "        if KeySecond in DataFirst[counter]:\n",
    "            print(DataFirst[counter][KeySecond], end=' ')\n",
    "            # for SecondDataCnt in \n",
    "        else:\n",
    "            print('-- WARNING: key RequirePort not found, wrong scruct?')\n",
    "        counter += 1\n",
    "else:\n",
    "    print('-- no ', KeySecond, ' find')\n",
    "if 'ProvidePorts' in fileOneData:\n",
    "    counter = 0\n",
    "    print('--R-Ports--file-2-----------------------')\n",
    "    for i in fileTwoData['RequirePorts']:\n",
    "        if 'RequirePort' in fileOneData['RequirePorts'][counter]:\n",
    "            print(fileOneData['RequirePorts'][counter]['RequirePort'])\n",
    "        else:\n",
    "            print('-- WARNING: key ProvidePort not found, wrong scruct?')\n",
    "        counter = counter + 1\n",
    "print('----------------------------')"
   ]
  },
  {
   "cell_type": "code",
   "execution_count": 6,
   "metadata": {},
   "outputs": [
    {
     "name": "stdout",
     "output_type": "stream",
     "text": [
      "--R-Ports--file-1-----------------------\n",
      "AcH_SMo\n",
      "aFYpct_PGV_FcN_DRVopn_en\n",
      "Amf_min_SU_H2Dil_T\n",
      "--R-Ports--file-2-----------------------\n",
      "AcH_SMo\n",
      "aFYpct_PGV_FcN_DRVopn_en\n",
      "----------------------------\n"
     ]
    }
   ],
   "source": [
    "# script to search same or not same string in json files\n",
    "\n",
    "import json\n",
    "\n",
    "# Open first JSON file and returns JSON object as a dictionary\n",
    "fileOne = open('in1.json')\n",
    "fileOneData = json.load(fileOne)\n",
    "fileOne.close()\n",
    "\n",
    "# Open second JSON file and returns JSON object as a dictionary\n",
    "fileTwo = open('in2.json')\n",
    "fileTwoData = json.load(fileTwo)\n",
    "fileTwo.close()\n",
    "\n",
    "# check json classes in data\n",
    "Keyfirst = 'RequirePorts'\n",
    "KeySecond = 'RequirePort'\n",
    "\n",
    "fileOneDataLen = len(fileOneData[Keyfirst])\n",
    "fileOneDataLen = len(fileOneData[Keyfirst])\n",
    "\n",
    "if fileOneDataLen > fileOneDataLen:\n",
    "    Data = fileOneData[Keyfirst]\n",
    "else:\n",
    "    Data = fileTwoData[Keyfirst]\n",
    "    \n",
    "if 'RequirePorts' in fileOneData:\n",
    "    counter = 0\n",
    "    findingsCnt = 0\n",
    "    print('--R-Ports--file-1-----------------------')\n",
    "    for i in fileOneData['RequirePorts']:\n",
    "        if 'RequirePort' in fileOneData['RequirePorts'][counter]:\n",
    "            print(fileOneData['RequirePorts'][counter]['RequirePort'])\n",
    "        else:\n",
    "            print('-- WARNING: key RequirePort not found, wrong scruct?')\n",
    "        counter += 1\n",
    "else:\n",
    "    print('-- no Require Ports find')\n",
    "if 'ProvidePorts' in fileOneData:\n",
    "    counter = 0\n",
    "    print('--R-Ports--file-2-----------------------')\n",
    "    for i in fileTwoData['RequirePorts']:\n",
    "        if 'RequirePort' in fileOneData['RequirePorts'][counter]:\n",
    "            print(fileOneData['RequirePorts'][counter]['RequirePort'])\n",
    "        else:\n",
    "            print('-- WARNING: key ProvidePort not found, wrong scruct?')\n",
    "        counter = counter + 1\n",
    "print('----------------------------')"
   ]
  }
 ],
 "metadata": {
  "kernelspec": {
   "display_name": "Python 3",
   "language": "python",
   "name": "python3"
  },
  "language_info": {
   "codemirror_mode": {
    "name": "ipython",
    "version": 3
   },
   "file_extension": ".py",
   "mimetype": "text/x-python",
   "name": "python",
   "nbconvert_exporter": "python",
   "pygments_lexer": "ipython3",
   "version": "3.11.5"
  }
 },
 "nbformat": 4,
 "nbformat_minor": 2
}
