{
 "cells": [
  {
   "cell_type": "code",
   "execution_count": 10,
   "metadata": {},
   "outputs": [
    {
     "name": "stdout",
     "output_type": "stream",
     "text": [
      "{'emp_name': 'Shubham', 'E-Mail': 'ksingh.shubh@gmail.com', 'job_profile': 'Praktikant'}\n",
      "{'emp_name': 'Gaurav', 'E-Mail': 'gaurav.singh@gmail.com', 'job_profile': 'Entwickler'}\n",
      "{'emp_name': 'Nikhil', 'E-Mail': 'nikhil@geeksforgeeks.org', 'job_profile': 'Vollzeit'}\n"
     ]
    }
   ],
   "source": [
    "import json\n",
    "\n",
    "# Opening JSON file\n",
    "f = open('data.json')\n",
    "\n",
    "# returns JSON object as a dictionary\n",
    "data = json.load(f)\n",
    "\n",
    "# Iterating through the json list\n",
    "for i in data['emp_details']:\n",
    "    print(i)\n",
    "\n",
    "# Closing file\n",
    "f.close()"
   ]
  },
  {
   "cell_type": "code",
   "execution_count": null,
   "metadata": {},
   "outputs": [
    {
     "name": "stdout",
     "output_type": "stream",
     "text": [
      "AcH_SMo\n",
      "aFYpct_PGV_FcN_DRVopn_en\n",
      "Amf_min_SU_H2Dil_T\n",
      "----------------------------\n",
      "aFYopn_DRV\n",
      "FP_Drain_done_T\n",
      "FP_Cycles_done_T\n",
      "SDA_Drain_done_T\n",
      "SDA_Cycles_done_T\n",
      "aFYpct_DRV\n",
      "WL_AKO_filt\n",
      "----------------------------\n"
     ]
    }
   ],
   "source": [
    "# script to search same or not same string in json files\n",
    "\n",
    "import json\n",
    "\n",
    "# Opening JSON file\n",
    "fileOne = open('in1.json')\n",
    "\n",
    "# returns JSON object as a dictionary\n",
    "data = json.load(fileOne)\n",
    "fileOne.close()\n",
    "\n",
    "#read second file to compare\n",
    "fileTwo = open('in2.json')\n",
    "fileTwoData = json.load(fileTwo)\n",
    "fileTwo.close()\n",
    "\n",
    "# Iterating through the json list\n",
    "count = 0\n",
    "for i in data['inports']:\n",
    "    print(data['inports'][count]['inport'])\n",
    "    count = count + 1\n",
    "print('----------------------------')\n",
    "count = 0\n",
    "for i in data['outports']:\n",
    "    print(data['outports'][count]['outport'])\n",
    "    count = count+1\n",
    "print('----------------------------')"
   ]
  },
  {
   "cell_type": "code",
   "execution_count": 16,
   "metadata": {},
   "outputs": [
    {
     "name": "stdout",
     "output_type": "stream",
     "text": [
      "{'if': [{'Inport': 'AcH_SMo'}, {'Inport': 'aFYpct_PGV_FcN_DRVopn_en'}, {'Inport': 'Amf_min_SU_H2Dil_T'}, {'Inport': 'Amf_WICo'}, {'Inport': 'AMn_ETC'}, {'Inport': 'ARpos_CBV_1'}, {'Inport': 'ARpos_CBV_2'}, {'Inport': 'AT_Ci'}, {'Inport': 'CT_Si'}, {'Inport': 'EI_S'}, {'Inport': 'EU_FCU87b'}, {'Inport': 'FCU_State'}, {'Inport': 'fcudiag_dsr_req_aFY_DRV_Opn'}, {'Inport': 'Fp_Si_barg'}, {'Inport': 'FP_State'}, {'Inport': 'SD_Anode_State'}, {'Inport': 'UDS_DSR_aFY_DRV_Ovr'}, {'Inport': 'UDS_DSR_aFY_DRV_Val'}, {'Inport': 'WL_AKO'}, {'Inport': 'CEon_SUH'}, {'Inport': 'FCU_State'}, {'Inport': 'FP_State'}, {'Inport': 'SD_Anode_State'}, {'Inport': 'AMn_ETC'}, {'Inport': 'EI_S'}, {'Inport': 'CT_Si'}, {'Inport': 'WL_AKO'}, {'Inport': 'AcH_SMo'}, {'Inport': 'Amf_min_SU_H2Dil_T'}, {'Inport': 'Fp_Si_barg'}, {'Inport': 'aFYpct_PGV_FcN_DRVopn_en'}, {'Inport': 'fcudiag_dsr_req_aFY_DRV_Opn'}, {'Inport': 'UDS_DSR_aFY_DRV_Ovr'}, {'Inport': 'UDS_DSR_aFY_DRV_Val'}, {'Inport': 'V_H2Ol_AKO'}, {'Inport': 'EU_FCU87b'}, {'Inport': 'AT_Ci'}, {'Inport': 'ARpos_CBV_1'}, {'Inport': 'ARpos_CBV_2'}, {'Inport': 'Amf_WICo'}, {'Inport': 'CEon_SUH'}], 'op': [{'Outports': 'aFYopn_DRV'}, {'Outports': 'FP_Drain_done_T'}, {'Outports': 'FP_Cycles_done_T'}, {'Outports': 'SDA_Drain_done_T'}, {'Outports': 'SDA_Cycles_done_T'}, {'Outports': 'aFYpct_DRV'}, {'Outports': 'WL_AKO_filt'}, {'Outports': 'DRV_openLoop_en'}, {'Outports': 'P_WL_AKO_stuck_low_mc'}, {'Outports': 'P_WL_AKO_stuck_low_fc'}, {'Outports': 'SDA_PGV_cycle'}, {'Outports': 'aFYopn_DRV'}, {'Outports': 'aFYpct_DRV'}, {'Outports': 'DRV_openLoop_en'}, {'Outports': 'FP_Cycles_done_T'}, {'Outports': 'FP_Drain_done_T'}, {'Outports': 'P_WL_AKO_stuck_low_fc'}], 'lp': [{'Local_Parameters': 'fcu_Amf_WICo_DRV_en_dlyT_P'}, {'Local_Parameters': 'fcu_Amf_WICo_min_DRV_en_P'}, {'Local_Parameters': 'fcu_FYopn_DRV_en_SP_P'}, {'Local_Parameters': 'fcu_Fp_Si_min_DRV_en_barg_P'}, {'Local_Parameters': 'fcu_aAMn_ETC_SM_P2'}, {'Local_Parameters': 'fcu_aAMn_ETC_SM_P4'}, {'Local_Parameters': 'fcu_V_AKO_ctrlKp_SimP'}, {'Local_Parameters': 'fcu_V_AKO_ctrlTn_SimP'}, {'Local_Parameters': 'fcu_V_H2Ol_AKO_req_SimP'}, {'Local_Parameters': 'fcu_Wm_AKO_full_P'}, {'Local_Parameters': 'fcu_Wm_AKO_min_P'}, {'Local_Parameters': 'fcu_Wm_AKO_max_P'}, {'Local_Parameters': 'fcu_AcH_SMo_aFYcls_open_Loop_en_S'}, {'Local_Parameters': 'fcu_AcH_SMo_aFYcls_open_Loop_en_S1'}, {'Local_Parameters': 'fcu_Wm_AKO_full_P'}, {'Local_Parameters': 'fcu_Wm_AKO_max_P'}, {'Local_Parameters': 'fcu_Wm_AKO_min_P'}, {'Local_Parameters': 'fcu_DRV_openLoop_en_S'}, {'Local_Parameters': 'fcu_DRV_openLoop_en_V'}, {'Local_Parameters': 'fcu_Wm_AKO_max_P'}, {'Local_Parameters': 'fcu_Wm_AKO_max_fact_P'}, {'Local_Parameters': 'fcu_Wm_AKO_max_P'}, {'Local_Parameters': 'fcu_Wm_AKO_min_P'}, {'Local_Parameters': 'fcu_WL_AKO_toffT_P'}, {'Local_Parameters': 'fcu_WL_AKO_tonT_P'}, {'Local_Parameters': 'fcu_CT_Si_mH2O_S_T1_P'}, {'Local_Parameters': 'fcu_DRV_openLoop_kv_fac_P'}, {'Local_Parameters': 'fcu_kv_DRV_H2O_L_P'}, {'Local_Parameters': 'fcu_AKO_LvlCtrl_high_en_P'}, {'Local_Parameters': 'fcu_CT_Si_mH2O_S_T1_P'}, {'Local_Parameters': 'fcu_Wm_AKO_full_P'}, {'Local_Parameters': 'fcu_Wm_AKO_min_P'}, {'Local_Parameters': 'fcu_kv_DRV_H2O_L_P'}, {'Local_Parameters': 'fcu_Wm_AKO_max_P'}, {'Local_Parameters': 'fcu_Wm_AKO_min_P'}, {'Local_Parameters': 'fcu_FP_AKO_DRV_cycles_P'}, {'Local_Parameters': 'fcu_FP_AKO_empty_DRV_cycles_P'}, {'Local_Parameters': 'fcu_Fp_Si_FP_Drain_done_P'}, {'Local_Parameters': 'fcu_dFp_Si_dt_AKO_empty_P'}, {'Local_Parameters': 'fcu_Fp_Si_FP_Drain_done_P'}, {'Local_Parameters': 'fcu_SDA_AKO_empty_DRV_cycles_P'}, {'Local_Parameters': 'fcu_SDA_DRV_cycles_P'}, {'Local_Parameters': 'fcu_dFp_Si_dt_AKO_empty_P'}, {'Local_Parameters': 'fcu_V_H2Ol_AKO_en_SimP'}, {'Local_Parameters': 'fcu_WL_AKO_avail_P'}, {'Local_Parameters': 'fcu_aFY_DRV_PWM_duty_SD_P'}, {'Local_Parameters': 'fcu_aFY_DRV_PWM_period_SD_P'}, {'Local_Parameters': 'fcu_aFYopn_DRV_S'}, {'Local_Parameters': 'fcu_aFYopn_DRV_V'}, {'Local_Parameters': 'fcu_aFYpct_DRV_S'}, {'Local_Parameters': 'fcu_aFYpct_DRV_V'}], 'glp': [{'Global_Parameters': 'R_fcu_ARpos_CBV_open_P'}, {'Global_Parameters': 'R_fcu_aAMn_ETC_SD_Anode_P'}]}\n"
     ]
    }
   ],
   "source": [
    "import json\n",
    "\n",
    "# Open and read the JSON file\n",
    "with open('if_orig.json', 'r') as file:\n",
    "    data = json.load(file)\n",
    "\n",
    "# Print the data\n",
    "print(data)"
   ]
  }
 ],
 "metadata": {
  "kernelspec": {
   "display_name": "Python 3",
   "language": "python",
   "name": "python3"
  },
  "language_info": {
   "codemirror_mode": {
    "name": "ipython",
    "version": 3
   },
   "file_extension": ".py",
   "mimetype": "text/x-python",
   "name": "python",
   "nbconvert_exporter": "python",
   "pygments_lexer": "ipython3",
   "version": "3.13.0"
  }
 },
 "nbformat": 4,
 "nbformat_minor": 2
}
